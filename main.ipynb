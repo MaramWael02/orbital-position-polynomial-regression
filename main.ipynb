{
 "cells": [
  {
   "cell_type": "markdown",
   "metadata": {},
   "source": [
    "### Libraries"
   ]
  },
  {
   "cell_type": "code",
   "execution_count": 106,
   "metadata": {},
   "outputs": [],
   "source": [
    "import pandas as pd\n",
    "import numpy as np\n",
    "from tensorflow.keras.models import Sequential\n",
    "from tensorflow.keras.layers import Dense\n",
    "from sklearn.model_selection import train_test_split\n",
    "from sklearn.preprocessing import PolynomialFeatures\n",
    "from sklearn.preprocessing import StandardScaler, Normalizer, MaxAbsScaler\n",
    "\n",
    "import matplotlib.pyplot as plt"
   ]
  },
  {
   "cell_type": "markdown",
   "metadata": {},
   "source": [
    "### Data Preprocessing"
   ]
  },
  {
   "cell_type": "code",
   "execution_count": 107,
   "metadata": {},
   "outputs": [],
   "source": [
    "# Read the data\n",
    "\n",
    "dataframe = pd.read_csv('orbit.csv')\n"
   ]
  },
  {
   "cell_type": "code",
   "execution_count": 108,
   "metadata": {},
   "outputs": [
    {
     "name": "stdout",
     "output_type": "stream",
     "text": [
      "   time_steps           y\n",
      "0  -10.000000  100.000000\n",
      "1   -9.989995   99.800000\n",
      "2   -9.979990   99.600200\n",
      "3   -9.969985   99.400601\n",
      "4   -9.959980   99.201201\n",
      "(2000, 2)\n"
     ]
    }
   ],
   "source": [
    "# Read the first 5 rows \n",
    "\n",
    "print(dataframe.head())\n",
    "\n",
    "# print size of dataframe\n",
    "\n",
    "print(dataframe.shape)"
   ]
  },
  {
   "cell_type": "code",
   "execution_count": 109,
   "metadata": {},
   "outputs": [],
   "source": [
    "# Extract features\n",
    "features = dataframe['time_steps']\n",
    "\n",
    "# Extract labels\n",
    "labels = dataframe['y']"
   ]
  },
  {
   "cell_type": "code",
   "execution_count": 110,
   "metadata": {},
   "outputs": [
    {
     "data": {
      "text/plain": [
       "[<matplotlib.lines.Line2D at 0x741f474fb670>]"
      ]
     },
     "execution_count": 110,
     "metadata": {},
     "output_type": "execute_result"
    },
    {
     "data": {
      "image/png": "[encoded data removed]",
      "text/plain": [
       "<Figure size 640x480 with 1 Axes>"
      ]
     },
     "metadata": {},
     "output_type": "display_data"
    }
   ],
   "source": [
    "# Plot the curve of the features\n",
    "\n",
    "plt.plot(features, labels)"
   ]
  },
  {
   "cell_type": "code",
   "execution_count": 111,
   "metadata": {},
   "outputs": [
    {
     "name": "stdout",
     "output_type": "stream",
     "text": [
      "There are no NaN values in the DataFrame.\n"
     ]
    }
   ],
   "source": [
    "# Check if there are any NaN values in the DataFrame\n",
    "if dataframe.isna().any().any():\n",
    "    print(\"There are NaN values in the DataFrame.\")\n",
    "else:\n",
    "    print(\"There are no NaN values in the DataFrame.\")\n"
   ]
  },
  {
   "cell_type": "code",
   "execution_count": 112,
   "metadata": {},
   "outputs": [],
   "source": [
    "# Data preprocessing\n",
    "scaler = StandardScaler()\n",
    "features = scaler.fit_transform(features.values.reshape(-1, 1))"
   ]
  },
  {
   "cell_type": "code",
   "execution_count": 113,
   "metadata": {},
   "outputs": [
    {
     "name": "stdout",
     "output_type": "stream",
     "text": [
      "(1600, 1)\n",
      "(200, 1)\n",
      "(200, 1)\n"
     ]
    }
   ],
   "source": [
    "## Split the dataframe into test, training and validation sets\n",
    "\n",
    "X_train , X_test_val , Y_train, Y_test_val = train_test_split(features, labels , test_size=0.2)\n",
    "X_test , X_val, Y_test, Y_val = train_test_split(X_test_val, Y_test_val, test_size=0.5)\n",
    "\n",
    "print(X_train.shape)\n",
    "#print(Y_train.shape)\n",
    "print(X_test.shape)\n",
    "print(X_val.shape)"
   ]
  },
  {
   "cell_type": "markdown",
   "metadata": {},
   "source": [
    "### Model Building"
   ]
  },
  {
   "cell_type": "code",
   "execution_count": 114,
   "metadata": {},
   "outputs": [
    {
     "name": "stdout",
     "output_type": "stream",
     "text": [
      "Model: \"sequential_7\"\n",
      "_________________________________________________________________\n",
      " Layer (type)                Output Shape              Param #   \n",
      "=================================================================\n",
      " dense_28 (Dense)            (None, 32)                64        \n",
      "                                                                 \n",
      " dense_29 (Dense)            (None, 16)                528       \n",
      "                                                                 \n",
      " dense_30 (Dense)            (None, 8)                 136       \n",
      "                                                                 \n",
      " dense_31 (Dense)            (None, 1)                 9         \n",
      "                                                                 \n",
      "=================================================================\n",
      "Total params: 737\n",
      "Trainable params: 737\n",
      "Non-trainable params: 0\n",
      "_________________________________________________________________\n"
     ]
    }
   ],
   "source": [
    "model = Sequential()\n",
    "model.add(Dense(32, input_shape=(1,), activation='relu'))\n",
    "model.add(Dense(16, activation='relu'))\n",
    "model.add(Dense(8, activation='relu'))\n",
    "model.add(Dense(1, activation='linear'))\n",
    "model.summary()\n"
   ]
  },
  {
   "cell_type": "markdown",
   "metadata": {},
   "source": [
    "### Model Compilation"
   ]
  },
  {
   "cell_type": "code",
   "execution_count": 115,
   "metadata": {},
   "outputs": [],
   "source": [
    "model.compile(optimizer='adam', loss='mean_squared_error')"
   ]
  },
  {
   "cell_type": "markdown",
   "metadata": {},
   "source": [
    "### Model Training"
   ]
  },
  {
   "cell_type": "code",
   "execution_count": 116,
   "metadata": {},
   "outputs": [
    {
     "name": "stdout",
     "output_type": "stream",
     "text": [
      "Epoch 1/100\n",
      "160/160 [==============================] - 1s 1ms/step - loss: 1884.7972\n",
      "Epoch 2/100\n",
      "160/160 [==============================] - 0s 1ms/step - loss: 1007.3836\n",
      "Epoch 3/100\n",
      "160/160 [==============================] - 0s 1ms/step - loss: 338.7458\n",
      "Epoch 4/100\n",
      "160/160 [==============================] - 0s 1ms/step - loss: 229.8373\n",
      "Epoch 5/100\n",
      "160/160 [==============================] - 0s 1ms/step - loss: 161.9659\n",
      "Epoch 6/100\n",
      "160/160 [==============================] - 0s 1ms/step - loss: 113.2803\n",
      "Epoch 7/100\n",
      "160/160 [==============================] - 0s 1ms/step - loss: 77.5310\n",
      "Epoch 8/100\n",
      "160/160 [==============================] - 0s 1ms/step - loss: 52.7830\n",
      "Epoch 9/100\n",
      "160/160 [==============================] - 0s 1ms/step - loss: 35.7978\n",
      "Epoch 10/100\n",
      "160/160 [==============================] - 0s 1ms/step - loss: 24.6572\n",
      "Epoch 11/100\n",
      "160/160 [==============================] - 0s 1ms/step - loss: 17.7007\n",
      "Epoch 12/100\n",
      "160/160 [==============================] - 0s 2ms/step - loss: 12.9709\n",
      "Epoch 13/100\n",
      "160/160 [==============================] - 0s 2ms/step - loss: 9.6158\n",
      "Epoch 14/100\n",
      "160/160 [==============================] - 0s 2ms/step - loss: 7.6561\n",
      "Epoch 15/100\n",
      "160/160 [==============================] - 0s 1ms/step - loss: 6.3106\n",
      "Epoch 16/100\n",
      "160/160 [==============================] - 0s 2ms/step - loss: 5.2206\n",
      "Epoch 17/100\n",
      "160/160 [==============================] - 0s 2ms/step - loss: 4.3930\n",
      "Epoch 18/100\n",
      "160/160 [==============================] - 0s 2ms/step - loss: 3.6969\n",
      "Epoch 19/100\n",
      "160/160 [==============================] - 0s 2ms/step - loss: 3.1264\n",
      "Epoch 20/100\n",
      "160/160 [==============================] - 0s 2ms/step - loss: 2.5838\n",
      "Epoch 21/100\n",
      "160/160 [==============================] - 0s 2ms/step - loss: 2.1780\n",
      "Epoch 22/100\n",
      "160/160 [==============================] - 0s 2ms/step - loss: 1.8092\n",
      "Epoch 23/100\n",
      "160/160 [==============================] - 0s 2ms/step - loss: 1.5443\n",
      "Epoch 24/100\n",
      "160/160 [==============================] - 0s 2ms/step - loss: 1.2558\n",
      "Epoch 25/100\n",
      "160/160 [==============================] - 0s 2ms/step - loss: 1.0727\n",
      "Epoch 26/100\n",
      "160/160 [==============================] - 0s 2ms/step - loss: 0.9388\n",
      "Epoch 27/100\n",
      "160/160 [==============================] - 0s 1ms/step - loss: 0.7826\n",
      "Epoch 28/100\n",
      "160/160 [==============================] - 0s 2ms/step - loss: 0.6737\n",
      "Epoch 29/100\n",
      "160/160 [==============================] - 0s 2ms/step - loss: 0.5695\n",
      "Epoch 30/100\n",
      "160/160 [==============================] - 0s 2ms/step - loss: 0.4948\n",
      "Epoch 31/100\n",
      "160/160 [==============================] - 0s 2ms/step - loss: 0.4197\n",
      "Epoch 32/100\n",
      "160/160 [==============================] - 0s 2ms/step - loss: 0.3558\n",
      "Epoch 33/100\n",
      "160/160 [==============================] - 0s 2ms/step - loss: 0.3001\n",
      "Epoch 34/100\n",
      "160/160 [==============================] - 0s 2ms/step - loss: 0.2464\n",
      "Epoch 35/100\n",
      "160/160 [==============================] - 0s 2ms/step - loss: 0.2088\n",
      "Epoch 36/100\n",
      "160/160 [==============================] - 0s 2ms/step - loss: 0.1825\n",
      "Epoch 37/100\n",
      "160/160 [==============================] - 0s 2ms/step - loss: 0.1359\n",
      "Epoch 38/100\n",
      "160/160 [==============================] - 0s 1ms/step - loss: 0.1137\n",
      "Epoch 39/100\n",
      "160/160 [==============================] - 0s 1ms/step - loss: 0.1035\n",
      "Epoch 40/100\n",
      "160/160 [==============================] - 0s 1ms/step - loss: 0.0734\n",
      "Epoch 41/100\n",
      "160/160 [==============================] - -0s -1129us/step - loss: 0.0588\n",
      "Epoch 42/100\n",
      "160/160 [==============================] - 0s 2ms/step - loss: 0.0542\n",
      "Epoch 43/100\n",
      "160/160 [==============================] - 0s 1ms/step - loss: 0.0491\n",
      "Epoch 44/100\n",
      "160/160 [==============================] - 0s 1ms/step - loss: 0.0349\n",
      "Epoch 45/100\n",
      "160/160 [==============================] - 0s 2ms/step - loss: 0.0363\n",
      "Epoch 46/100\n",
      "160/160 [==============================] - 0s 1ms/step - loss: 0.0270\n",
      "Epoch 47/100\n",
      "160/160 [==============================] - 0s 1ms/step - loss: 0.0260\n",
      "Epoch 48/100\n",
      "160/160 [==============================] - 0s 1ms/step - loss: 0.0237\n",
      "Epoch 49/100\n",
      "160/160 [==============================] - 0s 1ms/step - loss: 0.0217\n",
      "Epoch 50/100\n",
      "160/160 [==============================] - 0s 1ms/step - loss: 0.0219\n",
      "Epoch 51/100\n",
      "160/160 [==============================] - 0s 1ms/step - loss: 0.0183\n",
      "Epoch 52/100\n",
      "160/160 [==============================] - 0s 1ms/step - loss: 0.0216\n",
      "Epoch 53/100\n",
      "160/160 [==============================] - 0s 1ms/step - loss: 0.0195\n",
      "Epoch 54/100\n",
      "160/160 [==============================] - 0s 1ms/step - loss: 0.0159\n",
      "Epoch 55/100\n",
      "160/160 [==============================] - 0s 1ms/step - loss: 0.0167\n",
      "Epoch 56/100\n",
      "160/160 [==============================] - 0s 2ms/step - loss: 0.0199\n",
      "Epoch 57/100\n",
      "160/160 [==============================] - 0s 1ms/step - loss: 0.0146\n",
      "Epoch 58/100\n",
      "160/160 [==============================] - 0s 1ms/step - loss: 0.0145\n",
      "Epoch 59/100\n",
      "160/160 [==============================] - 0s 1ms/step - loss: 0.0136\n",
      "Epoch 60/100\n",
      "160/160 [==============================] - 0s 1ms/step - loss: 0.0157\n",
      "Epoch 61/100\n",
      "160/160 [==============================] - 0s 1ms/step - loss: 0.0112\n",
      "Epoch 62/100\n",
      "160/160 [==============================] - 0s 1ms/step - loss: 0.0241\n",
      "Epoch 63/100\n",
      "160/160 [==============================] - 0s 1ms/step - loss: 0.0111\n",
      "Epoch 64/100\n",
      "160/160 [==============================] - 0s 1ms/step - loss: 0.0105\n",
      "Epoch 65/100\n",
      "160/160 [==============================] - 0s 1ms/step - loss: 0.0102\n",
      "Epoch 66/100\n",
      "160/160 [==============================] - 0s 1ms/step - loss: 0.0111\n",
      "Epoch 67/100\n",
      "160/160 [==============================] - 0s 1ms/step - loss: 0.0070\n",
      "Epoch 68/100\n",
      "160/160 [==============================] - 0s 1ms/step - loss: 0.0085\n",
      "Epoch 69/100\n",
      "160/160 [==============================] - 0s 1ms/step - loss: 0.0086\n",
      "Epoch 70/100\n",
      "160/160 [==============================] - 0s 1ms/step - loss: 0.0142\n",
      "Epoch 71/100\n",
      "160/160 [==============================] - 0s 1ms/step - loss: 0.0178\n",
      "Epoch 72/100\n",
      "160/160 [==============================] - 0s 1ms/step - loss: 0.0137\n",
      "Epoch 73/100\n",
      "160/160 [==============================] - 0s 1ms/step - loss: 0.0098\n",
      "Epoch 74/100\n",
      "160/160 [==============================] - 0s 1ms/step - loss: 0.0204\n",
      "Epoch 75/100\n",
      "160/160 [==============================] - 0s 1ms/step - loss: 0.0092\n",
      "Epoch 76/100\n",
      "160/160 [==============================] - 0s 1ms/step - loss: 0.0127\n",
      "Epoch 77/100\n",
      "160/160 [==============================] - 0s 1ms/step - loss: 0.0104\n",
      "Epoch 78/100\n",
      "160/160 [==============================] - 0s 1ms/step - loss: 0.0148\n",
      "Epoch 79/100\n",
      "160/160 [==============================] - 0s 1ms/step - loss: 0.0119\n",
      "Epoch 80/100\n",
      "160/160 [==============================] - 0s 1ms/step - loss: 0.0149\n",
      "Epoch 81/100\n",
      "160/160 [==============================] - 0s 1ms/step - loss: 0.0114\n",
      "Epoch 82/100\n",
      "160/160 [==============================] - 0s 1ms/step - loss: 0.0102\n",
      "Epoch 83/100\n",
      "160/160 [==============================] - 0s 1ms/step - loss: 0.0079\n",
      "Epoch 84/100\n",
      "160/160 [==============================] - 0s 1ms/step - loss: 0.0203\n",
      "Epoch 85/100\n",
      "160/160 [==============================] - 0s 1ms/step - loss: 0.0060\n",
      "Epoch 86/100\n",
      "160/160 [==============================] - 0s 1ms/step - loss: 0.0114\n",
      "Epoch 87/100\n",
      "160/160 [==============================] - 0s 1ms/step - loss: 0.0120\n",
      "Epoch 88/100\n",
      "160/160 [==============================] - 0s 1ms/step - loss: 0.0129\n",
      "Epoch 89/100\n",
      "160/160 [==============================] - 0s 1ms/step - loss: 0.0184\n",
      "Epoch 90/100\n",
      "160/160 [==============================] - 0s 1ms/step - loss: 0.0059\n",
      "Epoch 91/100\n",
      "160/160 [==============================] - 0s 1ms/step - loss: 0.0092\n",
      "Epoch 92/100\n",
      "160/160 [==============================] - 0s 1ms/step - loss: 0.0112\n",
      "Epoch 93/100\n",
      "160/160 [==============================] - 0s 1ms/step - loss: 0.0366\n",
      "Epoch 94/100\n",
      "160/160 [==============================] - 0s 1ms/step - loss: 0.0085\n",
      "Epoch 95/100\n",
      "160/160 [==============================] - 0s 1ms/step - loss: 0.0069\n",
      "Epoch 96/100\n",
      "160/160 [==============================] - 0s 1ms/step - loss: 0.0068\n",
      "Epoch 97/100\n",
      "160/160 [==============================] - 0s 1ms/step - loss: 0.0066\n",
      "Epoch 98/100\n",
      "160/160 [==============================] - 0s 1ms/step - loss: 0.0113\n",
      "Epoch 99/100\n",
      "160/160 [==============================] - 0s 1ms/step - loss: 0.0087\n",
      "Epoch 100/100\n",
      "160/160 [==============================] - 0s 1ms/step - loss: 0.0081\n"
     ]
    },
    {
     "data": {
      "text/plain": [
       "<keras.callbacks.History at 0x741f4746c190>"
      ]
     },
     "execution_count": 116,
     "metadata": {},
     "output_type": "execute_result"
    }
   ],
   "source": [
    "model.fit(X_train, Y_train, epochs=100, batch_size=10)"
   ]
  },
  {
   "cell_type": "code",
   "execution_count": 117,
   "metadata": {},
   "outputs": [
    {
     "name": "stdout",
     "output_type": "stream",
     "text": [
      "7/7 [==============================] - 0s 2ms/step - loss: 0.0031\n",
      "0.0031272394116967916\n"
     ]
    }
   ],
   "source": [
    "print(model.evaluate(X_test, Y_test))"
   ]
  },
  {
   "cell_type": "markdown",
   "metadata": {},
   "source": [
    "### Model testing"
   ]
  },
  {
   "cell_type": "code",
   "execution_count": 118,
   "metadata": {},
   "outputs": [
    {
     "name": "stdout",
     "output_type": "stream",
     "text": [
      "7/7 [==============================] - 0s 1ms/step\n"
     ]
    },
    {
     "data": {
      "text/plain": [
       "<matplotlib.legend.Legend at 0x741f46a4e430>"
      ]
     },
     "execution_count": 118,
     "metadata": {},
     "output_type": "execute_result"
    },
    {
     "data": {
      "image/png": "[encoded data removed]",
      "text/plain": [
       "<Figure size 640x480 with 1 Axes>"
      ]
     },
     "metadata": {},
     "output_type": "display_data"
    }
   ],
   "source": [
    "y_pred = model.predict(X_test)\n",
    "\n",
    "# Plot the curve of the features\n",
    "plt.scatter(X_test, Y_test, label='True')\n",
    "plt.scatter(X_test, y_pred, label='Predicted')\n",
    "\n",
    "plt.legend()\n"
   ]
  },
  {
   "cell_type": "code",
   "execution_count": 119,
   "metadata": {},
   "outputs": [
    {
     "name": "stdout",
     "output_type": "stream",
     "text": [
      "0.9999968640587497\n"
     ]
    }
   ],
   "source": [
    "from sklearn.metrics import r2_score\n",
    "\n",
    "print(r2_score(Y_test, y_pred))"
   ]
  }
 ],
 "metadata": {
  "kernelspec": {
   "display_name": "Python 3",
   "language": "python",
   "name": "python3"
  },
  "language_info": {
   "codemirror_mode": {
    "name": "ipython",
    "version": 3
   },
   "file_extension": ".py",
   "mimetype": "text/x-python",
   "name": "python",
   "nbconvert_exporter": "python",
   "pygments_lexer": "ipython3",
   "version": "3.9.19"
  }
 },
 "nbformat": 4,
 "nbformat_minor": 2
}
