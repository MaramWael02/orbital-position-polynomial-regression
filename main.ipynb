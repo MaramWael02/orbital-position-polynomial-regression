{
 "cells": [
  {
   "cell_type": "markdown",
   "metadata": {},
   "source": [
    "### Libraries"
   ]
  },
  {
   "cell_type": "code",
   "execution_count": 78,
   "metadata": {},
   "outputs": [],
   "source": [
    "import pandas as pd\n",
    "import numpy as np\n",
    "from tensorflow.keras.models import Sequential\n",
    "from tensorflow.keras.layers import Dense\n",
    "from sklearn.model_selection import train_test_split\n",
    "from sklearn.preprocessing import PolynomialFeatures\n",
    "from sklearn.preprocessing import StandardScaler, Normalizer, MaxAbsScaler\n",
    "\n",
    "import matplotlib.pyplot as plt"
   ]
  },
  {
   "cell_type": "markdown",
   "metadata": {},
   "source": [
    "### Data Preprocessing"
   ]
  },
  {
   "cell_type": "code",
   "execution_count": 79,
   "metadata": {},
   "outputs": [],
   "source": [
    "# Read the data\n",
    "\n",
    "dataframe = pd.read_csv('orbit.csv')\n"
   ]
  },
  {
   "cell_type": "code",
   "execution_count": 80,
   "metadata": {},
   "outputs": [
    {
     "name": "stdout",
     "output_type": "stream",
     "text": [
      "   time_steps           y\n",
      "0  -10.000000  100.000000\n",
      "1   -9.989995   99.800000\n",
      "2   -9.979990   99.600200\n",
      "3   -9.969985   99.400601\n",
      "4   -9.959980   99.201201\n",
      "(2000, 2)\n"
     ]
    }
   ],
   "source": [
    "# Read the first 5 rows \n",
    "\n",
    "print(dataframe.head())\n",
    "\n",
    "# print size of dataframe\n",
    "\n",
    "print(dataframe.shape)"
   ]
  },
  {
   "cell_type": "code",
   "execution_count": 81,
   "metadata": {},
   "outputs": [],
   "source": [
    "# Extract features\n",
    "features = dataframe['time_steps']\n",
    "\n",
    "# Extract labels\n",
    "labels = dataframe['y']"
   ]
  },
  {
   "cell_type": "code",
   "execution_count": 82,
   "metadata": {},
   "outputs": [
    {
     "data": {
      "text/plain": [
       "[<matplotlib.lines.Line2D at 0x741f50299dc0>]"
      ]
     },
     "execution_count": 82,
     "metadata": {},
     "output_type": "execute_result"
    },
    {
     "data": {
      "image/png": "[encoded data removed]",
      "text/plain": [
       "<Figure size 640x480 with 1 Axes>"
      ]
     },
     "metadata": {},
     "output_type": "display_data"
    }
   ],
   "source": [
    "# Plot the curve of the features\n",
    "\n",
    "plt.plot(features, labels)"
   ]
  },
  {
   "cell_type": "code",
   "execution_count": 83,
   "metadata": {},
   "outputs": [
    {
     "name": "stdout",
     "output_type": "stream",
     "text": [
      "There are no NaN values in the DataFrame.\n"
     ]
    }
   ],
   "source": [
    "# Check if there are any NaN values in the DataFrame\n",
    "if dataframe.isna().any().any():\n",
    "    print(\"There are NaN values in the DataFrame.\")\n",
    "else:\n",
    "    print(\"There are no NaN values in the DataFrame.\")\n"
   ]
  },
  {
   "cell_type": "code",
   "execution_count": 84,
   "metadata": {},
   "outputs": [],
   "source": [
    "# Data preprocessing\n",
    "scaler = StandardScaler()\n",
    "features = scaler.fit_transform(features.values.reshape(-1, 1))"
   ]
  },
  {
   "cell_type": "code",
   "execution_count": 85,
   "metadata": {},
   "outputs": [
    {
     "name": "stdout",
     "output_type": "stream",
     "text": [
      "(1600, 1)\n",
      "(200, 1)\n",
      "(200, 1)\n"
     ]
    }
   ],
   "source": [
    "## Split the dataframe into test, training and validation sets\n",
    "\n",
    "X_train , X_test_val , Y_train, Y_test_val = train_test_split(features, labels , test_size=0.2)\n",
    "X_test , X_val, Y_test, Y_val = train_test_split(X_test_val, Y_test_val, test_size=0.5)\n",
    "\n",
    "print(X_train.shape)\n",
    "#print(Y_train.shape)\n",
    "print(X_test.shape)\n",
    "print(X_val.shape)"
   ]
  },
  {
   "cell_type": "markdown",
   "metadata": {},
   "source": [
    "### Model Building"
   ]
  },
  {
   "cell_type": "code",
   "execution_count": 86,
   "metadata": {},
   "outputs": [
    {
     "name": "stdout",
     "output_type": "stream",
     "text": [
      "Model: \"sequential_5\"\n",
      "_________________________________________________________________\n",
      " Layer (type)                Output Shape              Param #   \n",
      "=================================================================\n",
      " dense_20 (Dense)            (None, 32)                64        \n",
      "                                                                 \n",
      " dense_21 (Dense)            (None, 16)                528       \n",
      "                                                                 \n",
      " dense_22 (Dense)            (None, 8)                 136       \n",
      "                                                                 \n",
      " dense_23 (Dense)            (None, 1)                 9         \n",
      "                                                                 \n",
      "=================================================================\n",
      "Total params: 737\n",
      "Trainable params: 737\n",
      "Non-trainable params: 0\n",
      "_________________________________________________________________\n"
     ]
    }
   ],
   "source": [
    "model = Sequential()\n",
    "model.add(Dense(32, input_shape=(1,), activation='relu'))\n",
    "model.add(Dense(16, activation='relu'))\n",
    "model.add(Dense(8, activation='relu'))\n",
    "model.add(Dense(1, activation='linear'))\n",
    "model.summary()\n"
   ]
  },
  {
   "cell_type": "markdown",
   "metadata": {},
   "source": [
    "### Model Compilation"
   ]
  },
  {
   "cell_type": "code",
   "execution_count": 87,
   "metadata": {},
   "outputs": [],
   "source": [
    "model.compile(optimizer='adam', loss='mean_squared_error')"
   ]
  },
  {
   "cell_type": "markdown",
   "metadata": {},
   "source": [
    "### Model Training"
   ]
  },
  {
   "cell_type": "code",
   "execution_count": 88,
   "metadata": {},
   "outputs": [
    {
     "name": "stdout",
     "output_type": "stream",
     "text": [
      "Epoch 1/100\n",
      "160/160 [==============================] - 1s 2ms/step - loss: 1823.5580\n",
      "Epoch 2/100\n",
      "160/160 [==============================] - 0s 2ms/step - loss: 611.7862\n",
      "Epoch 3/100\n",
      "160/160 [==============================] - 0s 2ms/step - loss: 244.8638\n",
      "Epoch 4/100\n",
      "160/160 [==============================] - 0s 2ms/step - loss: 158.0183\n",
      "Epoch 5/100\n",
      "160/160 [==============================] - 0s 2ms/step - loss: 97.2732\n",
      "Epoch 6/100\n",
      "160/160 [==============================] - 0s 1ms/step - loss: 56.8876\n",
      "Epoch 7/100\n",
      "160/160 [==============================] - 0s 1ms/step - loss: 33.8622\n",
      "Epoch 8/100\n",
      "160/160 [==============================] - 0s 2ms/step - loss: 21.2650\n",
      "Epoch 9/100\n",
      "160/160 [==============================] - 0s 2ms/step - loss: 14.7583\n",
      "Epoch 10/100\n",
      "160/160 [==============================] - 0s 2ms/step - loss: 11.3146\n",
      "Epoch 11/100\n",
      "160/160 [==============================] - 0s 2ms/step - loss: 9.4173\n",
      "Epoch 12/100\n",
      "160/160 [==============================] - 0s 2ms/step - loss: 7.7793\n",
      "Epoch 13/100\n",
      "160/160 [==============================] - 0s 2ms/step - loss: 6.5521\n",
      "Epoch 14/100\n",
      "160/160 [==============================] - 0s 1ms/step - loss: 5.3947\n",
      "Epoch 15/100\n",
      "160/160 [==============================] - 0s 2ms/step - loss: 4.3181\n",
      "Epoch 16/100\n",
      "160/160 [==============================] - 0s 2ms/step - loss: 3.5303\n",
      "Epoch 17/100\n",
      "160/160 [==============================] - 0s 2ms/step - loss: 2.7981\n",
      "Epoch 18/100\n",
      "160/160 [==============================] - 0s 2ms/step - loss: 2.1895\n",
      "Epoch 19/100\n",
      "160/160 [==============================] - 0s 2ms/step - loss: 1.7461\n",
      "Epoch 20/100\n",
      "160/160 [==============================] - 0s 2ms/step - loss: 1.3057\n",
      "Epoch 21/100\n",
      "160/160 [==============================] - 0s 2ms/step - loss: 1.0081\n",
      "Epoch 22/100\n",
      "160/160 [==============================] - 0s 2ms/step - loss: 0.7861\n",
      "Epoch 23/100\n",
      "160/160 [==============================] - 0s 2ms/step - loss: 0.6588\n",
      "Epoch 24/100\n",
      "160/160 [==============================] - 0s 1ms/step - loss: 0.5268\n",
      "Epoch 25/100\n",
      "160/160 [==============================] - 0s 2ms/step - loss: 0.4513\n",
      "Epoch 26/100\n",
      "160/160 [==============================] - 0s 1ms/step - loss: 0.3775\n",
      "Epoch 27/100\n",
      "160/160 [==============================] - 0s 1ms/step - loss: 0.3091\n",
      "Epoch 28/100\n",
      "160/160 [==============================] - 0s 1ms/step - loss: 0.2614\n",
      "Epoch 29/100\n",
      "160/160 [==============================] - 0s 2ms/step - loss: 0.2161\n",
      "Epoch 30/100\n",
      "160/160 [==============================] - 0s 2ms/step - loss: 0.1736\n",
      "Epoch 31/100\n",
      "160/160 [==============================] - 0s 2ms/step - loss: 0.1531\n",
      "Epoch 32/100\n",
      "160/160 [==============================] - 0s 1ms/step - loss: 0.1240\n",
      "Epoch 33/100\n",
      "160/160 [==============================] - 0s 1ms/step - loss: 0.0960\n",
      "Epoch 34/100\n",
      "160/160 [==============================] - 0s 1ms/step - loss: 0.0787\n",
      "Epoch 35/100\n",
      "160/160 [==============================] - 0s 2ms/step - loss: 0.0653\n",
      "Epoch 36/100\n",
      "160/160 [==============================] - 0s 2ms/step - loss: 0.0561\n",
      "Epoch 37/100\n",
      "160/160 [==============================] - 0s 1ms/step - loss: 0.0460\n",
      "Epoch 38/100\n",
      "160/160 [==============================] - 0s 1ms/step - loss: 0.0411\n",
      "Epoch 39/100\n",
      "160/160 [==============================] - 0s 1ms/step - loss: 0.0378\n",
      "Epoch 40/100\n",
      "160/160 [==============================] - 0s 2ms/step - loss: 0.0288\n",
      "Epoch 41/100\n",
      "160/160 [==============================] - 0s 2ms/step - loss: 0.0256\n",
      "Epoch 42/100\n",
      "160/160 [==============================] - 0s 1ms/step - loss: 0.0224\n",
      "Epoch 43/100\n",
      "160/160 [==============================] - 0s 2ms/step - loss: 0.0196\n",
      "Epoch 44/100\n",
      "160/160 [==============================] - 0s 1ms/step - loss: 0.0184\n",
      "Epoch 45/100\n",
      "160/160 [==============================] - 0s 2ms/step - loss: 0.0147\n",
      "Epoch 46/100\n",
      "160/160 [==============================] - 0s 2ms/step - loss: 0.0125\n",
      "Epoch 47/100\n",
      "160/160 [==============================] - 0s 1ms/step - loss: 0.0156\n",
      "Epoch 48/100\n",
      "160/160 [==============================] - 0s 1ms/step - loss: 0.0145\n",
      "Epoch 49/100\n",
      "160/160 [==============================] - 0s 2ms/step - loss: 0.0105\n",
      "Epoch 50/100\n",
      "160/160 [==============================] - 0s 1ms/step - loss: 0.0150\n",
      "Epoch 51/100\n",
      "160/160 [==============================] - 0s 1ms/step - loss: 0.0106\n",
      "Epoch 52/100\n",
      "160/160 [==============================] - 0s 1ms/step - loss: 0.0072\n",
      "Epoch 53/100\n",
      "160/160 [==============================] - 0s 1ms/step - loss: 0.0110\n",
      "Epoch 54/100\n",
      "160/160 [==============================] - 0s 1ms/step - loss: 0.0115\n",
      "Epoch 55/100\n",
      "160/160 [==============================] - 0s 1ms/step - loss: 0.0068\n",
      "Epoch 56/100\n",
      "160/160 [==============================] - 0s 2ms/step - loss: 0.0080\n",
      "Epoch 57/100\n",
      "160/160 [==============================] - 0s 1ms/step - loss: 0.0056\n",
      "Epoch 58/100\n",
      "160/160 [==============================] - 0s 2ms/step - loss: 0.0084\n",
      "Epoch 59/100\n",
      "160/160 [==============================] - 0s 1ms/step - loss: 0.0088\n",
      "Epoch 60/100\n",
      "160/160 [==============================] - 0s 1ms/step - loss: 0.0182\n",
      "Epoch 61/100\n",
      "160/160 [==============================] - 0s 1ms/step - loss: 0.0180\n",
      "Epoch 62/100\n",
      "160/160 [==============================] - 0s 1ms/step - loss: 0.0076\n",
      "Epoch 63/100\n",
      "160/160 [==============================] - 0s 1ms/step - loss: 0.0070\n",
      "Epoch 64/100\n",
      "160/160 [==============================] - 0s 2ms/step - loss: 0.0078\n",
      "Epoch 65/100\n",
      "160/160 [==============================] - 0s 2ms/step - loss: 0.0068\n",
      "Epoch 66/100\n",
      "160/160 [==============================] - 0s 2ms/step - loss: 0.0077\n",
      "Epoch 67/100\n",
      "160/160 [==============================] - 0s 1ms/step - loss: 0.0113\n",
      "Epoch 68/100\n",
      "160/160 [==============================] - 0s 1ms/step - loss: 0.0057\n",
      "Epoch 69/100\n",
      "160/160 [==============================] - 0s 1ms/step - loss: 0.0076\n",
      "Epoch 70/100\n",
      "160/160 [==============================] - 0s 2ms/step - loss: 0.0970\n",
      "Epoch 71/100\n",
      "160/160 [==============================] - 0s 2ms/step - loss: 0.0069\n",
      "Epoch 72/100\n",
      "160/160 [==============================] - 0s 2ms/step - loss: 0.0065\n",
      "Epoch 73/100\n",
      "160/160 [==============================] - 0s 2ms/step - loss: 0.0051\n",
      "Epoch 74/100\n",
      "160/160 [==============================] - 0s 2ms/step - loss: 0.0067\n",
      "Epoch 75/100\n",
      "160/160 [==============================] - 0s 2ms/step - loss: 0.0050\n",
      "Epoch 76/100\n",
      "160/160 [==============================] - 0s 2ms/step - loss: 0.0095\n",
      "Epoch 77/100\n",
      "160/160 [==============================] - 0s 1ms/step - loss: 0.0056\n",
      "Epoch 78/100\n",
      "160/160 [==============================] - 0s 2ms/step - loss: 0.0042\n",
      "Epoch 79/100\n",
      "160/160 [==============================] - 0s 2ms/step - loss: 0.0161\n",
      "Epoch 80/100\n",
      "160/160 [==============================] - 0s 2ms/step - loss: 0.0029\n",
      "Epoch 81/100\n",
      "160/160 [==============================] - 0s 1ms/step - loss: 0.0052\n",
      "Epoch 82/100\n",
      "160/160 [==============================] - 0s 1ms/step - loss: 0.0121\n",
      "Epoch 83/100\n",
      "160/160 [==============================] - 0s 2ms/step - loss: 0.0387\n",
      "Epoch 84/100\n",
      "160/160 [==============================] - 0s 2ms/step - loss: 0.0039\n",
      "Epoch 85/100\n",
      "160/160 [==============================] - 0s 2ms/step - loss: 0.0081\n",
      "Epoch 86/100\n",
      "160/160 [==============================] - 0s 1ms/step - loss: 0.0501\n",
      "Epoch 87/100\n",
      "160/160 [==============================] - 0s 2ms/step - loss: 0.0263\n",
      "Epoch 88/100\n",
      "160/160 [==============================] - 0s 2ms/step - loss: 0.0040\n",
      "Epoch 89/100\n",
      "160/160 [==============================] - 0s 2ms/step - loss: 0.0035\n",
      "Epoch 90/100\n",
      "160/160 [==============================] - 0s 2ms/step - loss: 0.0036\n",
      "Epoch 91/100\n",
      "160/160 [==============================] - 0s 2ms/step - loss: 0.0059\n",
      "Epoch 92/100\n",
      "160/160 [==============================] - 0s 2ms/step - loss: 0.0093\n",
      "Epoch 93/100\n",
      "160/160 [==============================] - 0s 2ms/step - loss: 0.0061\n",
      "Epoch 94/100\n",
      "160/160 [==============================] - 0s 2ms/step - loss: 0.0072\n",
      "Epoch 95/100\n",
      "160/160 [==============================] - 0s 2ms/step - loss: 0.0038\n",
      "Epoch 96/100\n",
      "160/160 [==============================] - 0s 2ms/step - loss: 0.0074\n",
      "Epoch 97/100\n",
      "160/160 [==============================] - 0s 2ms/step - loss: 0.0059\n",
      "Epoch 98/100\n",
      "160/160 [==============================] - 0s 2ms/step - loss: 0.0060\n",
      "Epoch 99/100\n",
      "160/160 [==============================] - 0s 2ms/step - loss: 0.0102\n",
      "Epoch 100/100\n",
      "160/160 [==============================] - 0s 2ms/step - loss: 0.0125\n"
     ]
    },
    {
     "data": {
      "text/plain": [
       "<keras.callbacks.History at 0x741f501d4490>"
      ]
     },
     "execution_count": 88,
     "metadata": {},
     "output_type": "execute_result"
    }
   ],
   "source": [
    "model.fit(X_train, Y_train, epochs=100, batch_size=10)"
   ]
  },
  {
   "cell_type": "code",
   "execution_count": 89,
   "metadata": {},
   "outputs": [
    {
     "name": "stdout",
     "output_type": "stream",
     "text": [
      "7/7 [==============================] - 0s 2ms/step - loss: 0.0834\n",
      "0.08337218314409256\n"
     ]
    }
   ],
   "source": [
    "print(model.evaluate(X_test, Y_test))"
   ]
  },
  {
   "cell_type": "markdown",
   "metadata": {},
   "source": [
    "### Model testing"
   ]
  },
  {
   "cell_type": "code",
   "execution_count": 90,
   "metadata": {},
   "outputs": [
    {
     "name": "stdout",
     "output_type": "stream",
     "text": [
      "7/7 [==============================] - 0s 2ms/step\n"
     ]
    },
    {
     "data": {
      "text/plain": [
       "<matplotlib.legend.Legend at 0x741f50061610>"
      ]
     },
     "execution_count": 90,
     "metadata": {},
     "output_type": "execute_result"
    },
    {
     "data": {
      "image/png": "[encoded data removed]",
      "text/plain": [
       "<Figure size 640x480 with 1 Axes>"
      ]
     },
     "metadata": {},
     "output_type": "display_data"
    }
   ],
   "source": [
    "y_pred = model.predict(X_test)\n",
    "\n",
    "# Plot the curve of the features\n",
    "plt.scatter(X_test, Y_test, label='True')\n",
    "plt.scatter(X_test, y_pred, label='Predicted')\n",
    "\n",
    "plt.legend()\n"
   ]
  },
  {
   "cell_type": "code",
   "execution_count": 91,
   "metadata": {},
   "outputs": [
    {
     "name": "stdout",
     "output_type": "stream",
     "text": [
      "0.999911637040405\n"
     ]
    }
   ],
   "source": [
    "from sklearn.metrics import r2_score\n",
    "\n",
    "print(r2_score(Y_test, y_pred))"
   ]
  }
 ],
 "metadata": {
  "kernelspec": {
   "display_name": "Python 3",
   "language": "python",
   "name": "python3"
  },
  "language_info": {
   "codemirror_mode": {
    "name": "ipython",
    "version": 3
   },
   "file_extension": ".py",
   "mimetype": "text/x-python",
   "name": "python",
   "nbconvert_exporter": "python",
   "pygments_lexer": "ipython3",
   "version": "3.9.19"
  }
 },
 "nbformat": 4,
 "nbformat_minor": 2
}
